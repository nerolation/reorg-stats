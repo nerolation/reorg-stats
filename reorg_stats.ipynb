{
 "cells": [
  {
   "cell_type": "code",
   "execution_count": null,
   "id": "d53ce7f2",
   "metadata": {},
   "outputs": [],
   "source": [
    "from datetime import datetime\n",
    "import pandas as pd\n",
    "import os"
   ]
  },
  {
   "cell_type": "code",
   "execution_count": null,
   "id": "f3292df0",
   "metadata": {},
   "outputs": [],
   "source": [
    "def set_google_credentials(CONFIG, GOOGLE_CREDENTIALS):\n",
    "    try:\n",
    "        os.environ['GOOGLE_APPLICATION_CREDENTIALS']\n",
    "    except:\n",
    "        print(f\"setting google credentials as global variable...\")\n",
    "        os.environ['GOOGLE_APPLICATION_CREDENTIALS'] = CONFIG \\\n",
    "        + GOOGLE_CREDENTIALS or input(\"No Google API credendials file provided.\" \n",
    "        + \"Please specify path now:\\n\")\n",
    "        \n",
    "set_google_credentials(\"./config/\",\"google-creds.json\")"
   ]
  },
  {
   "cell_type": "code",
   "execution_count": null,
   "id": "c9bbb981",
   "metadata": {},
   "outputs": [],
   "source": [
    "query = \"\"\"\n",
    "    SELECT\n",
    "      DISTINCT * FROM (\n",
    "        SELECT\n",
    "          DISTINCT *\n",
    "        FROM\n",
    "          `ethereum-data-nero.ethdata.beaconchain_pace`\n",
    "        WHERE\n",
    "          slot IN (\n",
    "          SELECT\n",
    "            slot\n",
    "          FROM\n",
    "            `ethereum-data-nero.eth.validator_info`\n",
    "          WHERE\n",
    "            validator_id= \"missed\"\n",
    "            )\n",
    "        and validator_id != 0\n",
    "    )\n",
    "    ORDER BY slot\n",
    "\"\"\"\n",
    "df = pd.read_gbq(query)\n",
    "def slot_in_epoch(slot):\n",
    "    return slot%32\n",
    "df[\"slot_in_epoch\"] = df[\"slot\"].apply(slot_in_epoch)\n",
    "df['epoch'] = df['slot'] // 32"
   ]
  },
  {
   "cell_type": "code",
   "execution_count": null,
   "id": "6b5911af",
   "metadata": {},
   "outputs": [],
   "source": [
    "len(df), min(df.slot), max(df.slot)"
   ]
  },
  {
   "cell_type": "code",
   "execution_count": null,
   "id": "3093e2d0",
   "metadata": {},
   "outputs": [],
   "source": [
    "all_epochs = list(range(min(df[\"epoch\"]), max(df[\"epoch\"])+1))\n",
    "\n",
    "# Probability that slot 2 is reorged\n",
    "P_R2 = len(df[df.slot_in_epoch == 1]) / len(all_epochs)\n",
    "P_R3 = len(df[df.slot_in_epoch == 2]) / len(all_epochs)\n",
    "P_R4 = len(df[df.slot_in_epoch == 3]) / len(all_epochs)\n",
    "\n",
    "# Identify epochs where slot 2 was reorged\n",
    "epochs_with_R2 = set(df[df.slot_in_epoch == 1].epoch.tolist())\n",
    "epochs_with_R3 = set(df[df.slot_in_epoch == 2].epoch.tolist())\n",
    "epochs_with_R4 = set(df[df.slot_in_epoch == 3].epoch.tolist())\n",
    "epochs_with_R2_R3 = epochs_with_R2 & epochs_with_R3\n",
    "\n",
    "# Probability that slot 3 is reorged given slot 2 was reorged\n",
    "P_R3_given_R2 = len(df[(df.slot_in_epoch == 2) & df.epoch.isin(epochs_with_R2)]) / len(epochs_with_R2)\n",
    "\n",
    "epochs_without_R2 = list(set(all_epochs) - set(epochs_with_R2))\n",
    "\n",
    "# Probability that slot 3 is reorged given slot 2 was not reorged\n",
    "P_R3_given_not_R2 = len(df[(df.slot_in_epoch == 2) & df.epoch.isin(epochs_without_R2)]) / len(epochs_without_R2)\n",
    "\n",
    "\n",
    "# Probability that slot 4 is reorged given slot 2 was reorged\n",
    "P_R4_given_R2 = len(df[(df.slot_in_epoch == 3) & df.epoch.isin(epochs_with_R2)]) / len(epochs_with_R2)\n",
    "\n",
    "# Probability that slot 4 is reorged given slot 3 was reorged\n",
    "P_R4_given_R3 = len(df[(df.slot_in_epoch == 3) & df.epoch.isin(epochs_with_R3)]) / len(epochs_with_R3)\n",
    "\n",
    "# Probability that slot 4 is reorged given neither slot 2 nor slot 3 was reorged\n",
    "epochs_without_R2_R3 = list(set(all_epochs) - set(epochs_with_R2) - set(epochs_with_R3))\n",
    "P_R4_given_not_R2_R3 = len(df[(df.slot_in_epoch == 3) & df.epoch.isin(epochs_without_R2_R3)]) / len(epochs_without_R2_R3)\n",
    "\n",
    "epochs_without_R2 = list(set(all_epochs) - set(epochs_with_R2))\n",
    "P_R4_given_not_R2 = len(df[(df.slot_in_epoch == 3) & df.epoch.isin(epochs_without_R2)]) / len(epochs_without_R2)\n",
    "\n",
    "epochs_without_R3 = list(set(all_epochs) - set(epochs_with_R3))\n",
    "P_R4_given_not_R3 = len(df[(df.slot_in_epoch == 3) & df.epoch.isin(epochs_without_R3)]) / len(epochs_without_R3)\n",
    "\n",
    "P_R4_given_R2_R3 = len(df[(df.slot_in_epoch == 3) & df.epoch.isin(epochs_with_R2_R3)]) / len(epochs_with_R2_R3)\n",
    "\n",
    "print(\"P(R2):\", P_R2)\n",
    "print(\"P(R3):\", P_R3)\n",
    "print(\"P(R4):\", P_R4)\n",
    "print(\"P(R3 | R2):\", P_R3_given_R2)\n",
    "print(\"P(R3 | ¬R2):\", P_R3_given_not_R2)\n",
    "print(\"P(R4 | R2):\", P_R4_given_R2)\n",
    "print(\"P(R4 | R3):\", P_R4_given_R3)\n",
    "print(\"P(R4 | R2 & R3):\", P_R4_given_R2_R3)\n",
    "print(\"P(R4 | ¬R2 & ¬R3):\", P_R4_given_not_R2_R3)\n",
    "print(\"RR_R2_R3\", P_R3_given_R2/P_R3_given_not_R2)\n",
    "print(\"RR_R2_R4\", P_R4_given_R2/P_R4_given_not_R2)\n",
    "print(\"RR_R3_R4\", P_R4_given_R3/P_R4_given_not_R3)\n"
   ]
  }
 ],
 "metadata": {
  "kernelspec": {
   "display_name": "open-eth-pipes",
   "language": "python",
   "name": "open-eth-pipes"
  },
  "language_info": {
   "codemirror_mode": {
    "name": "ipython",
    "version": 3
   },
   "file_extension": ".py",
   "mimetype": "text/x-python",
   "name": "python",
   "nbconvert_exporter": "python",
   "pygments_lexer": "ipython3",
   "version": "3.10.12"
  }
 },
 "nbformat": 4,
 "nbformat_minor": 5
}
